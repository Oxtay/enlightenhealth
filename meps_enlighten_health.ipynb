{
 "cells": [
  {
   "cell_type": "markdown",
   "metadata": {},
   "source": [
    "<h1 align=\"center\">Enlighten Health</h1>\n",
    "\n",
    "<h4 align=\"center\">Predictive analysis of chronic conditions in patients to try and diagnose latent health issues that may have been missed</h4>\n",
    "\n",
    "#### Ref:\n",
    "Data: https://meps.ahrq.gov/mepsweb/"
   ]
  },
  {
   "cell_type": "markdown",
   "metadata": {},
   "source": [
    "## Setup"
   ]
  },
  {
   "cell_type": "code",
   "execution_count": 1,
   "metadata": {
    "collapsed": false
   },
   "outputs": [],
   "source": [
    "%matplotlib inline\n",
    "\n",
    "from __future__ import print_function\n",
    "\n",
    "import numpy as np\n",
    "import pandas as pd\n",
    "import seaborn as sns\n",
    "import collections\n",
    "import matplotlib.pyplot as plt\n",
    "sns.set()"
   ]
  },
  {
   "cell_type": "code",
   "execution_count": 2,
   "metadata": {
    "collapsed": true
   },
   "outputs": [],
   "source": [
    "import sklearn.externals.joblib as jl\n",
    "\n",
    "from sklearn import preprocessing\n",
    "# from sklearn.cross_validation import train_test_split\n",
    "# from sklearn.decomposition import PCA\n",
    "# from sklearn.cluster import KMeans\n",
    "from sklearn.tree import DecisionTreeClassifier\n",
    "from sklearn.ensemble import RandomForestClassifier"
   ]
  },
  {
   "cell_type": "code",
   "execution_count": 3,
   "metadata": {
    "collapsed": true
   },
   "outputs": [],
   "source": [
    "raw_df = pd.DataFrame.from_csv(\"./meps_base_data.csv\")  # Database of patients\n",
    "raw_meds = pd.DataFrame.from_csv(\"./meps_meds.csv\")  # Database of medications\n",
    "raw_cond = pd.DataFrame.from_csv(\"./meps_conditions.csv\")  # Database of conditions"
   ]
  },
  {
   "cell_type": "markdown",
   "metadata": {},
   "source": [
    "## Gather ideas\n",
    "\n",
    "- Using quantity of medicine as a possible indication of intensity of illness and/or power of that medication?\n",
    "- Pooled weight? I found this: '“pooled weight” is the yearly person weight divided by the number of years (i.e., 6)'. But that wasn't very useful. Another possibility is the weight being in ounces, but why would it have 6 digits of precision.\n",
    "- A good indication of certainty of a medicine implying an illness?\n",
    "    - Appearance divided by total medications present for that illness?\n",
    "- Average number of medications for each diagnosis\n",
    "- Appearance of each medicine in each diagnosis\n",
    "- Correlation between diseases (correlation between different columns, but we have to keep in mind that some people's diagnosis is not available. We can either include those in this calculation too or just replace all of them with 0 and have three options: yes, no, and NA.\n",
    "- Model options: \n",
    "    - We can only include whether a patient with a disease is getting a medication or not\n",
    "    - Include the quantity of medicine for each patient as an indication of importance of that medicine for that disease\n",
    "    - Including other features, e.g. sex, weight, age, etc. \n",
    "\n",
    "## Guide\n",
    "\n",
    "* **raw_df**: the raw dataframe that we keep as a refenrece\n",
    "* **df**: derived from raw_df, all main operations are done on this dataframe\n",
    "* **meds_df**: derived from raw_meds to be added to df\n",
    "* **rank_df**: rank of appearance of each medication in each disease\n",
    "* **dist_df**: distance of each medication's rank in different diseases.\n",
    "\n",
    "* **list_med_ranks**: list of medication rankings, used to construct rank_df\n",
    "* **df_non_list**: list of dataframes with patients that have only one disease"
   ]
  },
  {
   "cell_type": "markdown",
   "metadata": {},
   "source": [
    "## Useful functions"
   ]
  },
  {
   "cell_type": "code",
   "execution_count": 4,
   "metadata": {
    "collapsed": false
   },
   "outputs": [],
   "source": [
    "def most_common_med(df, condition=None):\n",
    "    \"\"\"\n",
    "    Get the names and codes of the most frequent medications for each condition\n",
    "    \"\"\"\n",
    "    # List of diseases that are considered in this scope\n",
    "    conditions = ['highBPDiagnosed', 'diabetesDiagnosed', 'chdDiagnosed', 'miDiagnosed', \n",
    "                  'anginaDiagnosed', 'strokeDiagnosed', 'emphysemaDiagnosed', 'asthmaDiagnosed', \n",
    "                  'otherHDDiagnosed', 'heartFailureDiagnosed']\n",
    "    \n",
    "    if is_empty(df):\n",
    "        print(\"dataframe is empty!\")\n",
    "        return\n",
    "    if condition is None or condition not in conditions:\n",
    "        print(\"Not a valid diagnosed condition!\")\n",
    "        \n",
    "    med_lists = df[df[condition]==4]['rxNDC']\n",
    "    med_list = [item for sublist in med_lists.dropna() for item in sublist]  # list of all meds a patient takes\n",
    "    freq = collections.Counter(med_list)  # frequency of occurance of each med in the list\n",
    "    try:\n",
    "        print(\"NDC for most common medication for %s: %d\" % (condition, freq.most_common()[0][0]))\n",
    "        print(\"Name: %s\" % raw_meds[raw_meds['rxNDC']==freq.most_common()[0][0]]['rxName'].values[0])\n",
    "        plot_medication_frequency(raw_meds, freq, condition)\n",
    "    except IndexError:\n",
    "        print(freq.most_common())\n",
    "    \n",
    "    return freq\n",
    "\n",
    "def is_empty(d):\n",
    "    \"\"\"\n",
    "    Check to see a variable is empty, no matter what type it has. Works for:\n",
    "    - list\n",
    "    - dictionary\n",
    "    - tuple\n",
    "    - dataframe\n",
    "    \"\"\"\n",
    "    if d is None:\n",
    "        return True\n",
    "    try:\n",
    "        if len(d) == 0:\n",
    "            return True\n",
    "    except:\n",
    "        pass\n",
    "    return False\n",
    "            \n",
    "def plot_medication_frequency(med_df, freq=None, condition=None):\n",
    "    \"\"\"\n",
    "    Plot number of appearance of each drug in each diagnosed condition\n",
    "    \"\"\"\n",
    "    if is_empty(med_df):\n",
    "        print(\"Medication data is empty!\")  \n",
    "        return\n",
    "    if is_empty(freq):\n",
    "        print(\"frequency of medication data is empty!\")\n",
    "        return\n",
    "            \n",
    "    med_labels = [med_df[med_df['rxNDC']==item[0]]['rxName'].values[0] for item in freq.most_common()[:10]]\n",
    "    frequency = [item[1] for item in freq.most_common()[:10]]\n",
    "    fig, ax = plt.subplots(figsize=(16, 6))\n",
    "    ax.bar(range(len(frequency)), frequency)\n",
    "    ax.set_xticks(range(len(frequency)))\n",
    "    ax.set_xticklabels(med_labels, rotation=45)\n",
    "    ax.set_ylabel(\"Number of appearances\")\n",
    "    ax.set_title(condition)"
   ]
  },
  {
   "cell_type": "markdown",
   "metadata": {},
   "source": [
    "## Explore the data"
   ]
  },
  {
   "cell_type": "code",
   "execution_count": 5,
   "metadata": {
    "collapsed": false
   },
   "outputs": [
    {
     "data": {
      "text/html": [
       "<div>\n",
       "<table border=\"1\" class=\"dataframe\">\n",
       "  <thead>\n",
       "    <tr style=\"text-align: right;\">\n",
       "      <th></th>\n",
       "      <th>id</th>\n",
       "      <th>panel</th>\n",
       "      <th>pooledWeight</th>\n",
       "      <th>age</th>\n",
       "      <th>sex</th>\n",
       "      <th>race</th>\n",
       "      <th>married</th>\n",
       "      <th>highBPDiagnosed</th>\n",
       "      <th>diabetesDiagnosed</th>\n",
       "      <th>chdDiagnosed</th>\n",
       "      <th>miDiagnosed</th>\n",
       "      <th>anginaDiagnosed</th>\n",
       "      <th>strokeDiagnosed</th>\n",
       "      <th>emphysemaDiagnosed</th>\n",
       "      <th>asthmaDiagnosed</th>\n",
       "      <th>otherHDDiagnosed</th>\n",
       "      <th>heartFailureDiagnosed</th>\n",
       "    </tr>\n",
       "  </thead>\n",
       "  <tbody>\n",
       "    <tr>\n",
       "      <th>1</th>\n",
       "      <td>10007101</td>\n",
       "      <td>15</td>\n",
       "      <td>3603.881236</td>\n",
       "      <td>28</td>\n",
       "      <td>Male</td>\n",
       "      <td>White</td>\n",
       "      <td>MARRIED</td>\n",
       "      <td>Yes</td>\n",
       "      <td>No</td>\n",
       "      <td>No</td>\n",
       "      <td>No</td>\n",
       "      <td>No</td>\n",
       "      <td>No</td>\n",
       "      <td>No</td>\n",
       "      <td>No</td>\n",
       "      <td>No</td>\n",
       "      <td>No</td>\n",
       "    </tr>\n",
       "    <tr>\n",
       "      <th>2</th>\n",
       "      <td>10007102</td>\n",
       "      <td>15</td>\n",
       "      <td>2544.550424</td>\n",
       "      <td>25</td>\n",
       "      <td>Female</td>\n",
       "      <td>White</td>\n",
       "      <td>MARRIED</td>\n",
       "      <td>No</td>\n",
       "      <td>No</td>\n",
       "      <td>No</td>\n",
       "      <td>No</td>\n",
       "      <td>No</td>\n",
       "      <td>No</td>\n",
       "      <td>No</td>\n",
       "      <td>Yes</td>\n",
       "      <td>No</td>\n",
       "      <td>No</td>\n",
       "    </tr>\n",
       "    <tr>\n",
       "      <th>3</th>\n",
       "      <td>10007103</td>\n",
       "      <td>15</td>\n",
       "      <td>4050.397468</td>\n",
       "      <td>4</td>\n",
       "      <td>Male</td>\n",
       "      <td>White</td>\n",
       "      <td>UNDER 16 - INAPPLICABLE</td>\n",
       "      <td>Inapplicable</td>\n",
       "      <td>Inapplicable</td>\n",
       "      <td>Inapplicable</td>\n",
       "      <td>Inapplicable</td>\n",
       "      <td>Inapplicable</td>\n",
       "      <td>Inapplicable</td>\n",
       "      <td>Inapplicable</td>\n",
       "      <td>No</td>\n",
       "      <td>Inapplicable</td>\n",
       "      <td>No</td>\n",
       "    </tr>\n",
       "    <tr>\n",
       "      <th>4</th>\n",
       "      <td>10007104</td>\n",
       "      <td>15</td>\n",
       "      <td>3064.059720</td>\n",
       "      <td>3</td>\n",
       "      <td>Female</td>\n",
       "      <td>White</td>\n",
       "      <td>UNDER 16 - INAPPLICABLE</td>\n",
       "      <td>Inapplicable</td>\n",
       "      <td>Inapplicable</td>\n",
       "      <td>Inapplicable</td>\n",
       "      <td>Inapplicable</td>\n",
       "      <td>Inapplicable</td>\n",
       "      <td>Inapplicable</td>\n",
       "      <td>Inapplicable</td>\n",
       "      <td>No</td>\n",
       "      <td>Inapplicable</td>\n",
       "      <td>No</td>\n",
       "    </tr>\n",
       "    <tr>\n",
       "      <th>5</th>\n",
       "      <td>10008101</td>\n",
       "      <td>15</td>\n",
       "      <td>3635.552466</td>\n",
       "      <td>51</td>\n",
       "      <td>Male</td>\n",
       "      <td>Multiple</td>\n",
       "      <td>MARRIED</td>\n",
       "      <td>No</td>\n",
       "      <td>No</td>\n",
       "      <td>No</td>\n",
       "      <td>No</td>\n",
       "      <td>No</td>\n",
       "      <td>No</td>\n",
       "      <td>No</td>\n",
       "      <td>No</td>\n",
       "      <td>No</td>\n",
       "      <td>No</td>\n",
       "    </tr>\n",
       "  </tbody>\n",
       "</table>\n",
       "</div>"
      ],
      "text/plain": [
       "         id  panel  pooledWeight  age     sex      race  \\\n",
       "1  10007101     15   3603.881236   28    Male     White   \n",
       "2  10007102     15   2544.550424   25  Female     White   \n",
       "3  10007103     15   4050.397468    4    Male     White   \n",
       "4  10007104     15   3064.059720    3  Female     White   \n",
       "5  10008101     15   3635.552466   51    Male  Multiple   \n",
       "\n",
       "                   married highBPDiagnosed diabetesDiagnosed  chdDiagnosed  \\\n",
       "1                  MARRIED             Yes                No            No   \n",
       "2                  MARRIED              No                No            No   \n",
       "3  UNDER 16 - INAPPLICABLE    Inapplicable      Inapplicable  Inapplicable   \n",
       "4  UNDER 16 - INAPPLICABLE    Inapplicable      Inapplicable  Inapplicable   \n",
       "5                  MARRIED              No                No            No   \n",
       "\n",
       "    miDiagnosed anginaDiagnosed strokeDiagnosed emphysemaDiagnosed  \\\n",
       "1            No              No              No                 No   \n",
       "2            No              No              No                 No   \n",
       "3  Inapplicable    Inapplicable    Inapplicable       Inapplicable   \n",
       "4  Inapplicable    Inapplicable    Inapplicable       Inapplicable   \n",
       "5            No              No              No                 No   \n",
       "\n",
       "  asthmaDiagnosed otherHDDiagnosed heartFailureDiagnosed  \n",
       "1              No               No                    No  \n",
       "2             Yes               No                    No  \n",
       "3              No     Inapplicable                    No  \n",
       "4              No     Inapplicable                    No  \n",
       "5              No               No                    No  "
      ]
     },
     "execution_count": 5,
     "metadata": {},
     "output_type": "execute_result"
    }
   ],
   "source": [
    "raw_df.head()"
   ]
  },
  {
   "cell_type": "code",
   "execution_count": 6,
   "metadata": {
    "collapsed": false
   },
   "outputs": [
    {
     "data": {
      "text/html": [
       "<div>\n",
       "<table border=\"1\" class=\"dataframe\">\n",
       "  <thead>\n",
       "    <tr style=\"text-align: right;\">\n",
       "      <th></th>\n",
       "      <th>id</th>\n",
       "      <th>rxStartMonth</th>\n",
       "      <th>rxStartYear</th>\n",
       "      <th>rxName</th>\n",
       "      <th>rxNDC</th>\n",
       "      <th>rxQuantity</th>\n",
       "      <th>rxForm</th>\n",
       "    </tr>\n",
       "  </thead>\n",
       "  <tbody>\n",
       "    <tr>\n",
       "      <th>1</th>\n",
       "      <td>10007104</td>\n",
       "      <td>3</td>\n",
       "      <td>2011</td>\n",
       "      <td>AMOXICILLIN</td>\n",
       "      <td>143988775</td>\n",
       "      <td>75.0</td>\n",
       "      <td>SUSR</td>\n",
       "    </tr>\n",
       "    <tr>\n",
       "      <th>2</th>\n",
       "      <td>10007104</td>\n",
       "      <td>3</td>\n",
       "      <td>2011</td>\n",
       "      <td>OTIC EDGE SOLUTION</td>\n",
       "      <td>68032032814</td>\n",
       "      <td>14.0</td>\n",
       "      <td>SOL</td>\n",
       "    </tr>\n",
       "    <tr>\n",
       "      <th>3</th>\n",
       "      <td>10008102</td>\n",
       "      <td>3</td>\n",
       "      <td>2011</td>\n",
       "      <td>NASAL DECONGESTANT 0.05% SPRAY</td>\n",
       "      <td>63981056903</td>\n",
       "      <td>15.0</td>\n",
       "      <td>SPR</td>\n",
       "    </tr>\n",
       "    <tr>\n",
       "      <th>4</th>\n",
       "      <td>10008102</td>\n",
       "      <td>3</td>\n",
       "      <td>2011</td>\n",
       "      <td>NASAL DECONGESTANT 0.05% SPRAY</td>\n",
       "      <td>63981056903</td>\n",
       "      <td>15.0</td>\n",
       "      <td>SPR</td>\n",
       "    </tr>\n",
       "    <tr>\n",
       "      <th>5</th>\n",
       "      <td>10008102</td>\n",
       "      <td>9</td>\n",
       "      <td>2011</td>\n",
       "      <td>DIPHENHYDRAM</td>\n",
       "      <td>603333921</td>\n",
       "      <td>30.0</td>\n",
       "      <td>CAP</td>\n",
       "    </tr>\n",
       "  </tbody>\n",
       "</table>\n",
       "</div>"
      ],
      "text/plain": [
       "         id  rxStartMonth  rxStartYear                          rxName  \\\n",
       "1  10007104             3         2011                     AMOXICILLIN   \n",
       "2  10007104             3         2011              OTIC EDGE SOLUTION   \n",
       "3  10008102             3         2011  NASAL DECONGESTANT 0.05% SPRAY   \n",
       "4  10008102             3         2011  NASAL DECONGESTANT 0.05% SPRAY   \n",
       "5  10008102             9         2011                    DIPHENHYDRAM   \n",
       "\n",
       "         rxNDC  rxQuantity rxForm  \n",
       "1    143988775        75.0   SUSR  \n",
       "2  68032032814        14.0    SOL  \n",
       "3  63981056903        15.0    SPR  \n",
       "4  63981056903        15.0    SPR  \n",
       "5    603333921        30.0    CAP  "
      ]
     },
     "execution_count": 6,
     "metadata": {},
     "output_type": "execute_result"
    }
   ],
   "source": [
    "raw_meds.head()"
   ]
  },
  {
   "cell_type": "code",
   "execution_count": 7,
   "metadata": {
    "collapsed": false
   },
   "outputs": [
    {
     "data": {
      "text/html": [
       "<div>\n",
       "<table border=\"1\" class=\"dataframe\">\n",
       "  <thead>\n",
       "    <tr style=\"text-align: right;\">\n",
       "      <th></th>\n",
       "      <th>id</th>\n",
       "      <th>panel</th>\n",
       "      <th>icd9ConditionCode</th>\n",
       "      <th>icd9ProcCode</th>\n",
       "      <th>numberOfInpatientEvents</th>\n",
       "    </tr>\n",
       "  </thead>\n",
       "  <tbody>\n",
       "    <tr>\n",
       "      <th>1</th>\n",
       "      <td>10007101</td>\n",
       "      <td>15</td>\n",
       "      <td>401</td>\n",
       "      <td>-1</td>\n",
       "      <td>0</td>\n",
       "    </tr>\n",
       "    <tr>\n",
       "      <th>2</th>\n",
       "      <td>10007104</td>\n",
       "      <td>15</td>\n",
       "      <td>382</td>\n",
       "      <td>-1</td>\n",
       "      <td>0</td>\n",
       "    </tr>\n",
       "    <tr>\n",
       "      <th>3</th>\n",
       "      <td>10008101</td>\n",
       "      <td>15</td>\n",
       "      <td>367</td>\n",
       "      <td>-1</td>\n",
       "      <td>0</td>\n",
       "    </tr>\n",
       "    <tr>\n",
       "      <th>4</th>\n",
       "      <td>10008101</td>\n",
       "      <td>15</td>\n",
       "      <td>477</td>\n",
       "      <td>-1</td>\n",
       "      <td>0</td>\n",
       "    </tr>\n",
       "    <tr>\n",
       "      <th>5</th>\n",
       "      <td>10008102</td>\n",
       "      <td>15</td>\n",
       "      <td>781</td>\n",
       "      <td>-1</td>\n",
       "      <td>0</td>\n",
       "    </tr>\n",
       "  </tbody>\n",
       "</table>\n",
       "</div>"
      ],
      "text/plain": [
       "         id  panel icd9ConditionCode  icd9ProcCode  numberOfInpatientEvents\n",
       "1  10007101     15               401            -1                        0\n",
       "2  10007104     15               382            -1                        0\n",
       "3  10008101     15               367            -1                        0\n",
       "4  10008101     15               477            -1                        0\n",
       "5  10008102     15               781            -1                        0"
      ]
     },
     "execution_count": 7,
     "metadata": {},
     "output_type": "execute_result"
    }
   ],
   "source": [
    "raw_cond.head()"
   ]
  },
  {
   "cell_type": "code",
   "execution_count": 8,
   "metadata": {
    "collapsed": false
   },
   "outputs": [
    {
     "name": "stdout",
     "output_type": "stream",
     "text": [
      "['MARRIED' 'UNDER 16 - INAPPLICABLE' 'NEVER MARRIED' 'INAPPLICABLE'\n",
      " 'DIVORCED' 'WIDOWED' 'DIVORCED IN ROUND' 'MARRIED IN ROUND' 'SEPARATED'\n",
      " 'SEPARATED IN ROUND' 'WIDOWED IN ROUND']\n",
      "['Yes' 'No' 'Inapplicable' 'DK' 'not ascertained' 'Refused']\n"
     ]
    }
   ],
   "source": [
    "print(raw_df['married'].unique())\n",
    "print(raw_df['highBPDiagnosed'].unique())"
   ]
  },
  {
   "cell_type": "code",
   "execution_count": 9,
   "metadata": {
    "collapsed": false
   },
   "outputs": [
    {
     "data": {
      "text/html": [
       "<div>\n",
       "<table border=\"1\" class=\"dataframe\">\n",
       "  <thead>\n",
       "    <tr style=\"text-align: right;\">\n",
       "      <th></th>\n",
       "      <th>id</th>\n",
       "      <th>panel</th>\n",
       "      <th>pooledWeight</th>\n",
       "      <th>age</th>\n",
       "    </tr>\n",
       "  </thead>\n",
       "  <tbody>\n",
       "    <tr>\n",
       "      <th>count</th>\n",
       "      <td>6.148900e+04</td>\n",
       "      <td>61489.000000</td>\n",
       "      <td>61489.000000</td>\n",
       "      <td>61489.000000</td>\n",
       "    </tr>\n",
       "    <tr>\n",
       "      <th>mean</th>\n",
       "      <td>5.534638e+07</td>\n",
       "      <td>13.534453</td>\n",
       "      <td>5063.701982</td>\n",
       "      <td>33.578396</td>\n",
       "    </tr>\n",
       "    <tr>\n",
       "      <th>std</th>\n",
       "      <td>2.759592e+07</td>\n",
       "      <td>1.061329</td>\n",
       "      <td>3815.885387</td>\n",
       "      <td>22.887576</td>\n",
       "    </tr>\n",
       "    <tr>\n",
       "      <th>min</th>\n",
       "      <td>1.000710e+07</td>\n",
       "      <td>12.000000</td>\n",
       "      <td>127.710358</td>\n",
       "      <td>-1.000000</td>\n",
       "    </tr>\n",
       "    <tr>\n",
       "      <th>25%</th>\n",
       "      <td>4.045510e+07</td>\n",
       "      <td>13.000000</td>\n",
       "      <td>2217.419038</td>\n",
       "      <td>14.000000</td>\n",
       "    </tr>\n",
       "    <tr>\n",
       "      <th>50%</th>\n",
       "      <td>4.965010e+07</td>\n",
       "      <td>14.000000</td>\n",
       "      <td>3989.180418</td>\n",
       "      <td>32.000000</td>\n",
       "    </tr>\n",
       "    <tr>\n",
       "      <th>75%</th>\n",
       "      <td>8.161711e+07</td>\n",
       "      <td>14.000000</td>\n",
       "      <td>6905.677619</td>\n",
       "      <td>51.000000</td>\n",
       "    </tr>\n",
       "    <tr>\n",
       "      <th>max</th>\n",
       "      <td>8.968810e+07</td>\n",
       "      <td>15.000000</td>\n",
       "      <td>38828.153564</td>\n",
       "      <td>85.000000</td>\n",
       "    </tr>\n",
       "  </tbody>\n",
       "</table>\n",
       "</div>"
      ],
      "text/plain": [
       "                 id         panel  pooledWeight           age\n",
       "count  6.148900e+04  61489.000000  61489.000000  61489.000000\n",
       "mean   5.534638e+07     13.534453   5063.701982     33.578396\n",
       "std    2.759592e+07      1.061329   3815.885387     22.887576\n",
       "min    1.000710e+07     12.000000    127.710358     -1.000000\n",
       "25%    4.045510e+07     13.000000   2217.419038     14.000000\n",
       "50%    4.965010e+07     14.000000   3989.180418     32.000000\n",
       "75%    8.161711e+07     14.000000   6905.677619     51.000000\n",
       "max    8.968810e+07     15.000000  38828.153564     85.000000"
      ]
     },
     "execution_count": 9,
     "metadata": {},
     "output_type": "execute_result"
    }
   ],
   "source": [
    "raw_df.describe()"
   ]
  },
  {
   "cell_type": "code",
   "execution_count": 10,
   "metadata": {
    "collapsed": false
   },
   "outputs": [
    {
     "name": "stdout",
     "output_type": "stream",
     "text": [
      "<class 'pandas.core.frame.DataFrame'>\n",
      "Int64Index: 61489 entries, 1 to 61489\n",
      "Data columns (total 17 columns):\n",
      "id                       61489 non-null int64\n",
      "panel                    61489 non-null int64\n",
      "pooledWeight             61489 non-null float64\n",
      "age                      61489 non-null int64\n",
      "sex                      61489 non-null object\n",
      "race                     61489 non-null object\n",
      "married                  61489 non-null object\n",
      "highBPDiagnosed          61489 non-null object\n",
      "diabetesDiagnosed        61489 non-null object\n",
      "chdDiagnosed             61489 non-null object\n",
      "miDiagnosed              61489 non-null object\n",
      "anginaDiagnosed          61489 non-null object\n",
      "strokeDiagnosed          61489 non-null object\n",
      "emphysemaDiagnosed       61489 non-null object\n",
      "asthmaDiagnosed          61489 non-null object\n",
      "otherHDDiagnosed         61489 non-null object\n",
      "heartFailureDiagnosed    61489 non-null object\n",
      "dtypes: float64(1), int64(3), object(13)\n",
      "memory usage: 8.4+ MB\n"
     ]
    }
   ],
   "source": [
    "raw_df.info()"
   ]
  },
  {
   "cell_type": "code",
   "execution_count": 11,
   "metadata": {
    "collapsed": false
   },
   "outputs": [
    {
     "name": "stdout",
     "output_type": "stream",
     "text": [
      "<class 'pandas.core.frame.DataFrame'>\n",
      "Int64Index: 1148347 entries, 1 to 3000992\n",
      "Data columns (total 7 columns):\n",
      "id              1148347 non-null int64\n",
      "rxStartMonth    1148347 non-null int64\n",
      "rxStartYear     1148347 non-null int64\n",
      "rxName          1148347 non-null object\n",
      "rxNDC           1148347 non-null int64\n",
      "rxQuantity      1148347 non-null float64\n",
      "rxForm          1148347 non-null object\n",
      "dtypes: float64(1), int64(4), object(2)\n",
      "memory usage: 70.1+ MB\n"
     ]
    }
   ],
   "source": [
    "raw_meds.info()"
   ]
  },
  {
   "cell_type": "markdown",
   "metadata": {},
   "source": [
    "### Patients in each category of disease"
   ]
  },
  {
   "cell_type": "code",
   "execution_count": 12,
   "metadata": {
    "collapsed": false
   },
   "outputs": [
    {
     "name": "stdout",
     "output_type": "stream",
     "text": [
      "high blood pressure diagnosed:  13637\n",
      "diabetes diagnosed:  4340\n",
      "coronary heart disease:  2328\n",
      "myocardial infarction:  1527\n",
      "angina:  1138\n",
      "stroke:  1556\n",
      "emphysema:  907\n",
      "asthma:  6001\n",
      "other HD:  3868\n",
      "heart failure diagnosed:  433\n"
     ]
    }
   ],
   "source": [
    "print('high blood pressure diagnosed: ', raw_df[raw_df['highBPDiagnosed']=='Yes'].shape[0])\n",
    "print('diabetes diagnosed: ', raw_df[raw_df['diabetesDiagnosed']=='Yes'].shape[0])\n",
    "print('coronary heart disease: ', raw_df[raw_df['chdDiagnosed']=='Yes'].shape[0])\n",
    "print('myocardial infarction: ', raw_df[raw_df['miDiagnosed']=='Yes'].shape[0])\n",
    "print('angina: ', raw_df[raw_df['anginaDiagnosed']=='Yes'].shape[0])\n",
    "print('stroke: ', raw_df[raw_df['strokeDiagnosed']=='Yes'].shape[0])\n",
    "print('emphysema: ', raw_df[raw_df['emphysemaDiagnosed']=='Yes'].shape[0])\n",
    "print('asthma: ', raw_df[raw_df['asthmaDiagnosed']=='Yes'].shape[0])\n",
    "print('other HD: ', raw_df[raw_df['otherHDDiagnosed']=='Yes'].shape[0])\n",
    "print('heart failure diagnosed: ', raw_df[raw_df['heartFailureDiagnosed']=='Yes'].shape[0])"
   ]
  },
  {
   "cell_type": "markdown",
   "metadata": {},
   "source": [
    "### Dropping duplicates\n",
    "Looking at first few rows on `raw_meds` suggests that there might be duplicate data. While there might be legitimate reasons for this, we can drop them for now. "
   ]
  },
  {
   "cell_type": "code",
   "execution_count": 13,
   "metadata": {
    "collapsed": false
   },
   "outputs": [],
   "source": [
    "raw_meds = raw_meds.drop_duplicates()"
   ]
  },
  {
   "cell_type": "markdown",
   "metadata": {},
   "source": [
    "### Number of drugs in study"
   ]
  },
  {
   "cell_type": "code",
   "execution_count": 14,
   "metadata": {
    "collapsed": false
   },
   "outputs": [
    {
     "name": "stdout",
     "output_type": "stream",
     "text": [
      "Number of medication names:  9218\n",
      "Number of different NDC in the database:  28736\n"
     ]
    }
   ],
   "source": [
    "print(\"Number of medication names: \", raw_meds['rxName'].unique().shape[0])\n",
    "print(\"Number of different NDC in the database: \", raw_meds['rxNDC'].unique().shape[0])"
   ]
  },
  {
   "cell_type": "markdown",
   "metadata": {},
   "source": [
    "This indicates that some of these medications have more than one code for them. We can consider both cases when building a model: model based on names, or based on NDC.\n",
    "\n",
    "## Data cleaning\n",
    "### Encoding diagnostic columns into numerical labels"
   ]
  },
  {
   "cell_type": "code",
   "execution_count": 15,
   "metadata": {
    "collapsed": false
   },
   "outputs": [
    {
     "name": "stdout",
     "output_type": "stream",
     "text": [
      "0:DK\n",
      "1:Inapplicable\n",
      "2:No\n",
      "3:Refused\n",
      "4:Yes\n",
      "5:not ascertained\n"
     ]
    }
   ],
   "source": [
    "df = raw_df.copy()\n",
    "le = preprocessing.LabelEncoder()\n",
    "le.fit(df['highBPDiagnosed'].unique())\n",
    "\n",
    "for i, item in enumerate(le.classes_):\n",
    "    print(\"%d:%s\" % (i, le.classes_[i]))\n",
    "\n",
    "conditions = [col for col in df.columns if col.endswith('Diagnosed')]  # All the conditions being considered\n",
    "\n",
    "for column in conditions:\n",
    "    df[column] = le.transform(df[column])"
   ]
  },
  {
   "cell_type": "markdown",
   "metadata": {},
   "source": [
    "### Encoding medication names into numerical labels"
   ]
  },
  {
   "cell_type": "code",
   "execution_count": 16,
   "metadata": {
    "collapsed": false
   },
   "outputs": [
    {
     "data": {
      "text/html": [
       "<div>\n",
       "<table border=\"1\" class=\"dataframe\">\n",
       "  <thead>\n",
       "    <tr style=\"text-align: right;\">\n",
       "      <th></th>\n",
       "      <th>id</th>\n",
       "      <th>rxStartMonth</th>\n",
       "      <th>rxStartYear</th>\n",
       "      <th>rxName</th>\n",
       "      <th>rxNDC</th>\n",
       "      <th>rxQuantity</th>\n",
       "      <th>rxForm</th>\n",
       "    </tr>\n",
       "  </thead>\n",
       "  <tbody>\n",
       "    <tr>\n",
       "      <th>1</th>\n",
       "      <td>10007104</td>\n",
       "      <td>3</td>\n",
       "      <td>2011</td>\n",
       "      <td>614</td>\n",
       "      <td>143988775</td>\n",
       "      <td>75.0</td>\n",
       "      <td>SUSR</td>\n",
       "    </tr>\n",
       "    <tr>\n",
       "      <th>2</th>\n",
       "      <td>10007104</td>\n",
       "      <td>3</td>\n",
       "      <td>2011</td>\n",
       "      <td>6329</td>\n",
       "      <td>68032032814</td>\n",
       "      <td>14.0</td>\n",
       "      <td>SOL</td>\n",
       "    </tr>\n",
       "    <tr>\n",
       "      <th>3</th>\n",
       "      <td>10008102</td>\n",
       "      <td>3</td>\n",
       "      <td>2011</td>\n",
       "      <td>5682</td>\n",
       "      <td>63981056903</td>\n",
       "      <td>15.0</td>\n",
       "      <td>SPR</td>\n",
       "    </tr>\n",
       "    <tr>\n",
       "      <th>5</th>\n",
       "      <td>10008102</td>\n",
       "      <td>9</td>\n",
       "      <td>2011</td>\n",
       "      <td>2701</td>\n",
       "      <td>603333921</td>\n",
       "      <td>30.0</td>\n",
       "      <td>CAP</td>\n",
       "    </tr>\n",
       "    <tr>\n",
       "      <th>6</th>\n",
       "      <td>10008102</td>\n",
       "      <td>9</td>\n",
       "      <td>2011</td>\n",
       "      <td>1860</td>\n",
       "      <td>24385037926</td>\n",
       "      <td>100.0</td>\n",
       "      <td>LIQD</td>\n",
       "    </tr>\n",
       "  </tbody>\n",
       "</table>\n",
       "</div>"
      ],
      "text/plain": [
       "         id  rxStartMonth  rxStartYear  rxName        rxNDC  rxQuantity rxForm\n",
       "1  10007104             3         2011     614    143988775        75.0   SUSR\n",
       "2  10007104             3         2011    6329  68032032814        14.0    SOL\n",
       "3  10008102             3         2011    5682  63981056903        15.0    SPR\n",
       "5  10008102             9         2011    2701    603333921        30.0    CAP\n",
       "6  10008102             9         2011    1860  24385037926       100.0   LIQD"
      ]
     },
     "execution_count": 16,
     "metadata": {},
     "output_type": "execute_result"
    }
   ],
   "source": [
    "le = preprocessing.LabelEncoder()\n",
    "le.fit(raw_meds['rxName'].unique())\n",
    "raw_meds['rxName'] = le.transform(raw_meds['rxName'])\n",
    "\n",
    "raw_meds.head()"
   ]
  },
  {
   "cell_type": "markdown",
   "metadata": {},
   "source": [
    "This way, it is easier to set the features and labels for the classifiers. Now, comparing it to actual strings, we can see that 4 corrsponds to 'Yes' and 2 corresponds to 'No'.\n",
    "\n",
    "### Make a list of medications for each patient"
   ]
  },
  {
   "cell_type": "code",
   "execution_count": 17,
   "metadata": {
    "collapsed": false
   },
   "outputs": [
    {
     "name": "stdout",
     "output_type": "stream",
     "text": [
      "CPU times: user 3.1 s, sys: 81.9 ms, total: 3.19 s\n",
      "Wall time: 3.27 s\n"
     ]
    }
   ],
   "source": [
    "%%time\n",
    "meds_df = raw_meds.groupby('id')['rxNDC'].apply(list)"
   ]
  },
  {
   "cell_type": "markdown",
   "metadata": {},
   "source": [
    "Merge medicines dataframe into main dataframe of patients"
   ]
  },
  {
   "cell_type": "code",
   "execution_count": 18,
   "metadata": {
    "collapsed": false
   },
   "outputs": [],
   "source": [
    "df = df.join(meds_df, on='id')"
   ]
  },
  {
   "cell_type": "markdown",
   "metadata": {},
   "source": [
    "**Different alternative is to take rxName for representing medicine name**"
   ]
  },
  {
   "cell_type": "code",
   "execution_count": 19,
   "metadata": {
    "collapsed": false
   },
   "outputs": [
    {
     "name": "stdout",
     "output_type": "stream",
     "text": [
      "CPU times: user 3.06 s, sys: 68.4 ms, total: 3.13 s\n",
      "Wall time: 3.15 s\n"
     ]
    }
   ],
   "source": [
    "%%time\n",
    "meds_df = raw_meds.groupby('id')['rxName'].apply(list)\n",
    "df = df.join(meds_df, on='id')"
   ]
  },
  {
   "cell_type": "code",
   "execution_count": 20,
   "metadata": {
    "collapsed": false
   },
   "outputs": [
    {
     "data": {
      "text/html": [
       "<div>\n",
       "<table border=\"1\" class=\"dataframe\">\n",
       "  <thead>\n",
       "    <tr style=\"text-align: right;\">\n",
       "      <th></th>\n",
       "      <th>id</th>\n",
       "      <th>panel</th>\n",
       "      <th>pooledWeight</th>\n",
       "      <th>age</th>\n",
       "      <th>sex</th>\n",
       "      <th>race</th>\n",
       "      <th>married</th>\n",
       "      <th>highBPDiagnosed</th>\n",
       "      <th>diabetesDiagnosed</th>\n",
       "      <th>chdDiagnosed</th>\n",
       "      <th>miDiagnosed</th>\n",
       "      <th>anginaDiagnosed</th>\n",
       "      <th>strokeDiagnosed</th>\n",
       "      <th>emphysemaDiagnosed</th>\n",
       "      <th>asthmaDiagnosed</th>\n",
       "      <th>otherHDDiagnosed</th>\n",
       "      <th>heartFailureDiagnosed</th>\n",
       "      <th>rxNDC</th>\n",
       "      <th>rxName</th>\n",
       "    </tr>\n",
       "  </thead>\n",
       "  <tbody>\n",
       "    <tr>\n",
       "      <th>1</th>\n",
       "      <td>10007101</td>\n",
       "      <td>15</td>\n",
       "      <td>3603.881236</td>\n",
       "      <td>28</td>\n",
       "      <td>Male</td>\n",
       "      <td>White</td>\n",
       "      <td>MARRIED</td>\n",
       "      <td>4</td>\n",
       "      <td>2</td>\n",
       "      <td>2</td>\n",
       "      <td>2</td>\n",
       "      <td>2</td>\n",
       "      <td>2</td>\n",
       "      <td>2</td>\n",
       "      <td>2</td>\n",
       "      <td>2</td>\n",
       "      <td>2</td>\n",
       "      <td>[68382002210, 59762314001, 51079068463]</td>\n",
       "      <td>[919, 1041, 919]</td>\n",
       "    </tr>\n",
       "    <tr>\n",
       "      <th>2</th>\n",
       "      <td>10007102</td>\n",
       "      <td>15</td>\n",
       "      <td>2544.550424</td>\n",
       "      <td>25</td>\n",
       "      <td>Female</td>\n",
       "      <td>White</td>\n",
       "      <td>MARRIED</td>\n",
       "      <td>2</td>\n",
       "      <td>2</td>\n",
       "      <td>2</td>\n",
       "      <td>2</td>\n",
       "      <td>2</td>\n",
       "      <td>2</td>\n",
       "      <td>2</td>\n",
       "      <td>4</td>\n",
       "      <td>2</td>\n",
       "      <td>2</td>\n",
       "      <td>[173075000, 406036005, 603258228]</td>\n",
       "      <td>[8474, 4084, 1668]</td>\n",
       "    </tr>\n",
       "    <tr>\n",
       "      <th>3</th>\n",
       "      <td>10007103</td>\n",
       "      <td>15</td>\n",
       "      <td>4050.397468</td>\n",
       "      <td>4</td>\n",
       "      <td>Male</td>\n",
       "      <td>White</td>\n",
       "      <td>UNDER 16 - INAPPLICABLE</td>\n",
       "      <td>1</td>\n",
       "      <td>1</td>\n",
       "      <td>1</td>\n",
       "      <td>1</td>\n",
       "      <td>1</td>\n",
       "      <td>1</td>\n",
       "      <td>1</td>\n",
       "      <td>2</td>\n",
       "      <td>1</td>\n",
       "      <td>2</td>\n",
       "      <td>[65401303]</td>\n",
       "      <td>[8892]</td>\n",
       "    </tr>\n",
       "    <tr>\n",
       "      <th>4</th>\n",
       "      <td>10007104</td>\n",
       "      <td>15</td>\n",
       "      <td>3064.059720</td>\n",
       "      <td>3</td>\n",
       "      <td>Female</td>\n",
       "      <td>White</td>\n",
       "      <td>UNDER 16 - INAPPLICABLE</td>\n",
       "      <td>1</td>\n",
       "      <td>1</td>\n",
       "      <td>1</td>\n",
       "      <td>1</td>\n",
       "      <td>1</td>\n",
       "      <td>1</td>\n",
       "      <td>1</td>\n",
       "      <td>2</td>\n",
       "      <td>1</td>\n",
       "      <td>2</td>\n",
       "      <td>[143988775, 68032032814]</td>\n",
       "      <td>[614, 6329]</td>\n",
       "    </tr>\n",
       "    <tr>\n",
       "      <th>5</th>\n",
       "      <td>10008101</td>\n",
       "      <td>15</td>\n",
       "      <td>3635.552466</td>\n",
       "      <td>51</td>\n",
       "      <td>Male</td>\n",
       "      <td>Multiple</td>\n",
       "      <td>MARRIED</td>\n",
       "      <td>2</td>\n",
       "      <td>2</td>\n",
       "      <td>2</td>\n",
       "      <td>2</td>\n",
       "      <td>2</td>\n",
       "      <td>2</td>\n",
       "      <td>2</td>\n",
       "      <td>2</td>\n",
       "      <td>2</td>\n",
       "      <td>2</td>\n",
       "      <td>NaN</td>\n",
       "      <td>NaN</td>\n",
       "    </tr>\n",
       "  </tbody>\n",
       "</table>\n",
       "</div>"
      ],
      "text/plain": [
       "         id  panel  pooledWeight  age     sex      race  \\\n",
       "1  10007101     15   3603.881236   28    Male     White   \n",
       "2  10007102     15   2544.550424   25  Female     White   \n",
       "3  10007103     15   4050.397468    4    Male     White   \n",
       "4  10007104     15   3064.059720    3  Female     White   \n",
       "5  10008101     15   3635.552466   51    Male  Multiple   \n",
       "\n",
       "                   married  highBPDiagnosed  diabetesDiagnosed  chdDiagnosed  \\\n",
       "1                  MARRIED                4                  2             2   \n",
       "2                  MARRIED                2                  2             2   \n",
       "3  UNDER 16 - INAPPLICABLE                1                  1             1   \n",
       "4  UNDER 16 - INAPPLICABLE                1                  1             1   \n",
       "5                  MARRIED                2                  2             2   \n",
       "\n",
       "   miDiagnosed  anginaDiagnosed  strokeDiagnosed  emphysemaDiagnosed  \\\n",
       "1            2                2                2                   2   \n",
       "2            2                2                2                   2   \n",
       "3            1                1                1                   1   \n",
       "4            1                1                1                   1   \n",
       "5            2                2                2                   2   \n",
       "\n",
       "   asthmaDiagnosed  otherHDDiagnosed  heartFailureDiagnosed  \\\n",
       "1                2                 2                      2   \n",
       "2                4                 2                      2   \n",
       "3                2                 1                      2   \n",
       "4                2                 1                      2   \n",
       "5                2                 2                      2   \n",
       "\n",
       "                                     rxNDC              rxName  \n",
       "1  [68382002210, 59762314001, 51079068463]    [919, 1041, 919]  \n",
       "2        [173075000, 406036005, 603258228]  [8474, 4084, 1668]  \n",
       "3                               [65401303]              [8892]  \n",
       "4                 [143988775, 68032032814]         [614, 6329]  \n",
       "5                                      NaN                 NaN  "
      ]
     },
     "execution_count": 20,
     "metadata": {},
     "output_type": "execute_result"
    }
   ],
   "source": [
    "df.head()"
   ]
  },
  {
   "cell_type": "markdown",
   "metadata": {},
   "source": [
    "## Most common medication for different conditions"
   ]
  },
  {
   "cell_type": "code",
   "execution_count": 21,
   "metadata": {
    "collapsed": false,
    "scrolled": false
   },
   "outputs": [
    {
     "name": "stdout",
     "output_type": "stream",
     "text": [
      "NDC for most common medication for highBPDiagnosed: 172208380\n",
      "Name: 4050\n",
      "8.97558113955\n",
      "NDC for most common medication for diabetesDiagnosed: 88222033\n",
      "Name: 4638\n",
      "19.8156682028\n",
      "NDC for most common medication for chdDiagnosed: 63653117101\n",
      "Name: 2121\n",
      "23.7113402062\n",
      "NDC for most common medication for miDiagnosed: 63653117101\n",
      "Name: 2121\n",
      "27.7668631303\n",
      "NDC for most common medication for anginaDiagnosed: 63653117101\n",
      "Name: 2121\n",
      "26.1862917399\n",
      "NDC for most common medication for strokeDiagnosed: 63653117101\n",
      "Name: 2121\n",
      "18.8946015424\n",
      "NDC for most common medication for emphysemaDiagnosed: 597007541\n",
      "Name: 7894\n",
      "29.658213892\n",
      "NDC for most common medication for asthmaDiagnosed: 59310057920\n",
      "Name: 7064\n",
      "16.6972171305\n",
      "NDC for most common medication for otherHDDiagnosed: 63653117106\n",
      "Name: 6744\n",
      "10.1602895553\n",
      "NDC for most common medication for heartFailureDiagnosed: 378021610\n",
      "Name: 3630\n",
      "29.3302540416\n"
     ]
    },
    {
     "data": {
      "image/png": "[encoded data removed]",
      "text/plain": [
       "<matplotlib.figure.Figure at 0x1123e2490>"
      ]
     },
     "metadata": {},
     "output_type": "display_data"
    },
    {
     "data": {
      "image/png": "[encoded data removed]",
      "text/plain": [
       "<matplotlib.figure.Figure at 0x112bd1110>"
      ]
     },
     "metadata": {},
     "output_type": "display_data"
    },
    {
     "data": {
      "image/png": "[encoded data removed]",
      "text/plain": [
       "<matplotlib.figure.Figure at 0x11457f290>"
      ]
     },
     "metadata": {},
     "output_type": "display_data"
    },
    {
     "data": {
      "image/png": "[encoded data removed]",
      "text/plain": [
       "<matplotlib.figure.Figure at 0x11460e510>"
      ]
     },
     "metadata": {},
     "output_type": "display_data"
    },
    {
     "data": {
      "image/png": "[encoded data removed]",
      "text/plain": [
       "<matplotlib.figure.Figure at 0x1148e1190>"
      ]
     },
     "metadata": {},
     "output_type": "display_data"
    },
    {
     "data": {
      "image/png": "[encoded data removed]",
      "text/plain": [
       "<matplotlib.figure.Figure at 0x11462a910>"
      ]
     },
     "metadata": {},
     "output_type": "display_data"
    },
    {
     "data": {
      "image/png": "[encoded data removed]",
      "text/plain": [
       "<matplotlib.figure.Figure at 0x114af02d0>"
      ]
     },
     "metadata": {},
     "output_type": "display_data"
    },
    {
     "data": {
      "image/png": "[encoded data removed]",
      "text/plain": [
       "<matplotlib.figure.Figure at 0x115313dd0>"
      ]
     },
     "metadata": {},
     "output_type": "display_data"
    },
    {
     "data": {
      "image/png": "[encoded data removed]",
      "text/plain": [
       "<matplotlib.figure.Figure at 0x112ed9510>"
      ]
     },
     "metadata": {},
     "output_type": "display_data"
    },
    {
     "data": {
      "image/png": "[encoded data removed]",
      "text/plain": [
       "<matplotlib.figure.Figure at 0x1148eb110>"
      ]
     },
     "metadata": {},
     "output_type": "display_data"
    }
   ],
   "source": [
    "list_of_freq_meds = {}\n",
    "for condition in conditions:\n",
    "    freq = most_common_med(df, condition)\n",
    "    # Percentage of patients this was prescribed\n",
    "    if not is_empty(freq):\n",
    "        list_of_freq_meds[condition] = freq\n",
    "        print(float(freq.most_common()[0][1]) / len(df[df[condition]==4]) * 100)"
   ]
  },
  {
   "cell_type": "markdown",
   "metadata": {
    "collapsed": false
   },
   "source": [
    "## Medications most indicative of each condition"
   ]
  },
  {
   "cell_type": "markdown",
   "metadata": {},
   "source": [
    "A medication most indicative of a disease is a medication that appears more frequently on the list of medications of people with that disease but less frequently on the list of people without that disease.\n",
    "\n",
    "There are a few approaches that we can take towards this problem:\n",
    "- Find people with only one condition and nothing else and then look at their medication. This would be problematic since some of these diseases are related. For example a person with a heart condition might suffer from a number of heart diseases.\n",
    "- Define a metric that would show the distance between how high a medication is ranked in one disease and how low it is ranked in the rest. This also poses a few challenges, namely, it has probably a high computational complexity.\n",
    "\n",
    "However, this second approach might be worth considering with a few limitations that we set on it:\n",
    "\n",
    " 1. Let's consider only the top 10 medications for each disease\n",
    " 2. Let's define the distance metric as:\n",
    " \n",
    "     $$d_{i} = \\sum_{\\substack{h \\in D \\\\ h \\neq disease}}{i_{disease}^2 - j_{h}^2}$$\n",
    "     \n",
    "     Alternatively, we can define a different distance metric and the lower the distance the better a medicine indicates a disease:\n",
    "     \n",
    "     $$d_{i} = \\sum_{\\substack{h \\in D \\\\ h \\neq disease}}{i_{disease}^2 - (n-j)_{h}^2}$$\n",
    "\n",
    "     where $i$ is ranking of the medication in the list of most common medication for the considered disease, $j$ is the ranking of the same medication in the list of every other disease. $D$ is the list of all diseases, $h$ is each disease in that list, and $n$ is the number of medications appearing in the list of each disease."
   ]
  },
  {
   "cell_type": "code",
   "execution_count": 22,
   "metadata": {
    "collapsed": true
   },
   "outputs": [],
   "source": [
    "def med_distance(medication, list_dis, list_non):\n",
    "    pass"
   ]
  },
  {
   "cell_type": "code",
   "execution_count": 23,
   "metadata": {
    "collapsed": false
   },
   "outputs": [
    {
     "name": "stdout",
     "output_type": "stream",
     "text": [
      "CPU times: user 800 ms, sys: 17.1 ms, total: 817 ms\n",
      "Wall time: 815 ms\n"
     ]
    }
   ],
   "source": [
    "%%time\n",
    "list_med_ranks = {}\n",
    "for disease, freq_meds in list_of_freq_meds.items():\n",
    "    list_med_ranks[disease] = [item[0] for item in freq_meds.most_common()[:10]]\n",
    "    \n",
    "rank_df = pd.DataFrame.from_dict(list_med_ranks)\n",
    "dist_df = pd.DataFrame(index=rank_df.index, columns=rank_df.columns)\n",
    "# print(dist_df)\n",
    "\n",
    "for disease in rank_df.columns:\n",
    "    for med in rank_df[disease].iteritems():\n",
    "        distance = 0\n",
    "        med_idx = med[0]\n",
    "        med = med[1]\n",
    "        for non_disease in rank_df.columns:\n",
    "            if non_disease != disease:\n",
    "                try:\n",
    "                    non_idx = rank_df[rank_df[non_disease] == med].notnull().index[0]\n",
    "                except IndexError:\n",
    "#                     print(\"Not found for this disease\")\n",
    "                    non_idx = 10  # if a medicine doesn't exist in the top 10 of the disease, \n",
    "                                  # punish it by increasing the weight for not being significant enough!\n",
    "                distance += med_idx - non_idx\n",
    "        dist_df.ix[med_idx, disease] =  - distance  # add a negative sign to make the distance positive and the more the distance, \n",
    "                                                    # the better the medication indicative of that disease\n",
    "\n",
    "dist_df.head()\n"
   ]
  },
  {
   "cell_type": "code",
   "execution_count": 24,
   "metadata": {
    "collapsed": false
   },
   "outputs": [],
   "source": [
    "# This list contains dataframes, where the patient only has one disease and not the other one. \n",
    "# This can be used to find correlations between different diseases\n",
    "df_non_list = []\n",
    "number_of_patients_in_each_disease = []\n",
    "for condition in conditions:\n",
    "    df_cond = df[df[condition]==4]\n",
    "#     print(df_cond.shape[0])  # number of patients in each category of disease\n",
    "    number_of_patients_in_each_disease.append(df_cond.shape[0])\n",
    "    non_conds = [cond for cond in conditions if cond != condition]\n",
    "    for non_cond in non_conds:\n",
    "        df_non_list.append(df_cond[df_cond[non_cond]!=4])\n"
   ]
  },
  {
   "cell_type": "code",
   "execution_count": 25,
   "metadata": {
    "collapsed": false
   },
   "outputs": [],
   "source": [
    "# print(len(df_non_list))"
   ]
  },
  {
   "cell_type": "code",
   "execution_count": 31,
   "metadata": {
    "collapsed": false
   },
   "outputs": [
    {
     "name": "stdout",
     "output_type": "stream",
     "text": [
      "==========================================\n",
      "% of people with one disease and not the other:  76.0 , total number of patients like this:  10400\n",
      "% of people with one disease and not the other:  86.0 , total number of patients like this:  11791\n",
      "% of people with one disease and not the other:  91.0 , total number of patients like this:  12420\n",
      "% of people with one disease and not the other:  93.0 , total number of patients like this:  12719\n",
      "% of people with one disease and not the other:  91.0 , total number of patients like this:  12436\n",
      "% of people with one disease and not the other:  96.0 , total number of patients like this:  13026\n",
      "% of people with one disease and not the other:  88.0 , total number of patients like this:  12014\n",
      "% of people with one disease and not the other:  82.0 , total number of patients like this:  11175\n",
      "% of people with one disease and not the other:  97.0 , total number of patients like this:  13283\n",
      "==========================================\n",
      "% of people with one disease and not the other:  25.0 , total number of patients like this:  1103\n",
      "% of people with one disease and not the other:  81.0 , total number of patients like this:  3516\n",
      "% of people with one disease and not the other:  87.0 , total number of patients like this:  3778\n",
      "% of people with one disease and not the other:  91.0 , total number of patients like this:  3947\n",
      "% of people with one disease and not the other:  88.0 , total number of patients like this:  3838\n",
      "% of people with one disease and not the other:  95.0 , total number of patients like this:  4116\n",
      "% of people with one disease and not the other:  87.0 , total number of patients like this:  3768\n",
      "% of people with one disease and not the other:  79.0 , total number of patients like this:  3435\n",
      "% of people with one disease and not the other:  96.0 , total number of patients like this:  4150\n",
      "==========================================\n",
      "% of people with one disease and not the other:  21.0 , total number of patients like this:  482\n",
      "% of people with one disease and not the other:  65.0 , total number of patients like this:  1504\n",
      "% of people with one disease and not the other:  56.0 , total number of patients like this:  1301\n",
      "% of people with one disease and not the other:  69.0 , total number of patients like this:  1602\n",
      "% of people with one disease and not the other:  80.0 , total number of patients like this:  1857\n",
      "% of people with one disease and not the other:  89.0 , total number of patients like this:  2077\n",
      "% of people with one disease and not the other:  85.0 , total number of patients like this:  1986\n",
      "% of people with one disease and not the other:  45.0 , total number of patients like this:  1050\n",
      "% of people with one disease and not the other:  90.0 , total number of patients like this:  2098\n",
      "==========================================\n",
      "% of people with one disease and not the other:  20.0 , total number of patients like this:  310\n",
      "% of people with one disease and not the other:  63.0 , total number of patients like this:  965\n",
      "% of people with one disease and not the other:  33.0 , total number of patients like this:  500\n",
      "% of people with one disease and not the other:  68.0 , total number of patients like this:  1035\n",
      "% of people with one disease and not the other:  74.0 , total number of patients like this:  1137\n",
      "% of people with one disease and not the other:  88.0 , total number of patients like this:  1342\n",
      "% of people with one disease and not the other:  85.0 , total number of patients like this:  1300\n",
      "% of people with one disease and not the other:  50.0 , total number of patients like this:  762\n",
      "% of people with one disease and not the other:  91.0 , total number of patients like this:  1382\n",
      "==========================================\n",
      "% of people with one disease and not the other:  19.0 , total number of patients like this:  220\n",
      "% of people with one disease and not the other:  65.0 , total number of patients like this:  745\n",
      "% of people with one disease and not the other:  36.0 , total number of patients like this:  412\n",
      "% of people with one disease and not the other:  57.0 , total number of patients like this:  646\n",
      "% of people with one disease and not the other:  77.0 , total number of patients like this:  873\n",
      "% of people with one disease and not the other:  87.0 , total number of patients like this:  987\n",
      "% of people with one disease and not the other:  82.0 , total number of patients like this:  932\n",
      "% of people with one disease and not the other:  51.0 , total number of patients like this:  585\n",
      "% of people with one disease and not the other:  92.0 , total number of patients like this:  1051\n",
      "==========================================\n",
      "% of people with one disease and not the other:  23.0 , total number of patients like this:  355\n",
      "% of people with one disease and not the other:  68.0 , total number of patients like this:  1054\n",
      "% of people with one disease and not the other:  70.0 , total number of patients like this:  1085\n",
      "% of people with one disease and not the other:  75.0 , total number of patients like this:  1166\n",
      "% of people with one disease and not the other:  83.0 , total number of patients like this:  1291\n",
      "% of people with one disease and not the other:  90.0 , total number of patients like this:  1401\n",
      "% of people with one disease and not the other:  84.0 , total number of patients like this:  1301\n",
      "% of people with one disease and not the other:  67.0 , total number of patients like this:  1045\n",
      "% of people with one disease and not the other:  94.0 , total number of patients like this:  1457\n",
      "==========================================\n",
      "% of people with one disease and not the other:  33.0 , total number of patients like this:  296\n",
      "% of people with one disease and not the other:  75.0 , total number of patients like this:  683\n",
      "% of people with one disease and not the other:  72.0 , total number of patients like this:  656\n",
      "% of people with one disease and not the other:  80.0 , total number of patients like this:  722\n",
      "% of people with one disease and not the other:  83.0 , total number of patients like this:  756\n",
      "% of people with one disease and not the other:  83.0 , total number of patients like this:  752\n",
      "% of people with one disease and not the other:  60.0 , total number of patients like this:  541\n",
      "% of people with one disease and not the other:  67.0 , total number of patients like this:  605\n",
      "% of people with one disease and not the other:  92.0 , total number of patients like this:  838\n",
      "==========================================\n",
      "% of people with one disease and not the other:  73.0 , total number of patients like this:  4378\n",
      "% of people with one disease and not the other:  90.0 , total number of patients like this:  5429\n",
      "% of people with one disease and not the other:  94.0 , total number of patients like this:  5659\n",
      "% of people with one disease and not the other:  96.0 , total number of patients like this:  5774\n",
      "% of people with one disease and not the other:  97.0 , total number of patients like this:  5795\n",
      "% of people with one disease and not the other:  96.0 , total number of patients like this:  5746\n",
      "% of people with one disease and not the other:  94.0 , total number of patients like this:  5635\n",
      "% of people with one disease and not the other:  89.0 , total number of patients like this:  5362\n",
      "% of people with one disease and not the other:  98.0 , total number of patients like this:  5905\n",
      "==========================================\n",
      "% of people with one disease and not the other:  36.0 , total number of patients like this:  1406\n",
      "% of people with one disease and not the other:  77.0 , total number of patients like this:  2963\n",
      "% of people with one disease and not the other:  67.0 , total number of patients like this:  2590\n",
      "% of people with one disease and not the other:  80.0 , total number of patients like this:  3103\n",
      "% of people with one disease and not the other:  86.0 , total number of patients like this:  3315\n",
      "% of people with one disease and not the other:  87.0 , total number of patients like this:  3357\n",
      "% of people with one disease and not the other:  92.0 , total number of patients like this:  3566\n",
      "% of people with one disease and not the other:  83.0 , total number of patients like this:  3229\n",
      "% of people with one disease and not the other:  91.0 , total number of patients like this:  3530\n",
      "==========================================\n",
      "% of people with one disease and not the other:  18.0 , total number of patients like this:  79\n",
      "% of people with one disease and not the other:  56.0 , total number of patients like this:  243\n",
      "% of people with one disease and not the other:  47.0 , total number of patients like this:  203\n",
      "% of people with one disease and not the other:  67.0 , total number of patients like this:  288\n",
      "% of people with one disease and not the other:  80.0 , total number of patients like this:  346\n",
      "% of people with one disease and not the other:  77.0 , total number of patients like this:  334\n",
      "% of people with one disease and not the other:  84.0 , total number of patients like this:  364\n",
      "% of people with one disease and not the other:  78.0 , total number of patients like this:  337\n",
      "% of people with one disease and not the other:  22.0 , total number of patients like this:  95\n"
     ]
    }
   ],
   "source": [
    "for i, subdf in enumerate(df_non_list):\n",
    "    if i%9 == 0:\n",
    "        print('==========================================')\n",
    "    print('% of people with one disease and not the other: ', np.round(float(subdf.shape[0])/number_of_patients_in_each_disease[i/9]*100), ', total number of patients like this: ', subdf.shape[0])\n",
    "#     print(subdf.shape)\n"
   ]
  },
  {
   "cell_type": "markdown",
   "metadata": {},
   "source": [
    "By examining the results, it can be seen that the most common disease is the **high blood pressure** and the least common is the **heart failure**. "
   ]
  },
  {
   "cell_type": "markdown",
   "metadata": {},
   "source": [
    "## Building a model - Future work\n",
    "For a model to predict the diagnosis based on the medications, a naive approach would be to make a $M\\times N$ sparce matrix, where $M$ is the number of patients, and $N$ is the number of medications, for each diagnosis. In this case, $N$ is either 9218 or 28736, depending on whether we want to take the name or NDC for identifying medications. This approach is of course not very practical because of the size of the matrix and computational complexity. \n",
    "\n",
    "A different approach would be to make a $M\\times N$ matrix, $M$ beig the number of patients, and $N$ is the presence of the top 20 medications (this can later be optimized) present for each disease. So, for example, take the presence or absense of the over-all top 20 medications and build the feature set based on those for each disease, or take the entire set of 10 diseases in this dataset as the label and train for it. As extra features, include age, sex, and weight. \n",
    "\n",
    "To extend this model, we can use the `raw_cond` dataframe that's loaded from `meps_conditions.csv`, to add more diagnosis data to our label and while doing that, we also need to consider more medications to increase the accuracy of the results.\n",
    "\n",
    "For the choice of classifier, at first a decision tree for finding the best features, and later train a random forest would be one option.\n",
    "\n",
    "These are some of the ideas worth exploring."
   ]
  },
  {
   "cell_type": "code",
   "execution_count": 27,
   "metadata": {
    "collapsed": false
   },
   "outputs": [
    {
     "data": {
      "text/html": [
       "<div>\n",
       "<table border=\"1\" class=\"dataframe\">\n",
       "  <thead>\n",
       "    <tr style=\"text-align: right;\">\n",
       "      <th></th>\n",
       "      <th>id</th>\n",
       "      <th>panel</th>\n",
       "      <th>pooledWeight</th>\n",
       "      <th>age</th>\n",
       "      <th>sex</th>\n",
       "      <th>race</th>\n",
       "      <th>married</th>\n",
       "      <th>highBPDiagnosed</th>\n",
       "      <th>diabetesDiagnosed</th>\n",
       "      <th>chdDiagnosed</th>\n",
       "      <th>miDiagnosed</th>\n",
       "      <th>anginaDiagnosed</th>\n",
       "      <th>strokeDiagnosed</th>\n",
       "      <th>emphysemaDiagnosed</th>\n",
       "      <th>asthmaDiagnosed</th>\n",
       "      <th>otherHDDiagnosed</th>\n",
       "      <th>heartFailureDiagnosed</th>\n",
       "      <th>rxNDC</th>\n",
       "      <th>rxName</th>\n",
       "    </tr>\n",
       "  </thead>\n",
       "  <tbody>\n",
       "    <tr>\n",
       "      <th>1</th>\n",
       "      <td>10007101</td>\n",
       "      <td>15</td>\n",
       "      <td>3603.881236</td>\n",
       "      <td>28</td>\n",
       "      <td>Male</td>\n",
       "      <td>White</td>\n",
       "      <td>MARRIED</td>\n",
       "      <td>4</td>\n",
       "      <td>2</td>\n",
       "      <td>2</td>\n",
       "      <td>2</td>\n",
       "      <td>2</td>\n",
       "      <td>2</td>\n",
       "      <td>2</td>\n",
       "      <td>2</td>\n",
       "      <td>2</td>\n",
       "      <td>2</td>\n",
       "      <td>[68382002210, 59762314001, 51079068463]</td>\n",
       "      <td>[919, 1041, 919]</td>\n",
       "    </tr>\n",
       "    <tr>\n",
       "      <th>2</th>\n",
       "      <td>10007102</td>\n",
       "      <td>15</td>\n",
       "      <td>2544.550424</td>\n",
       "      <td>25</td>\n",
       "      <td>Female</td>\n",
       "      <td>White</td>\n",
       "      <td>MARRIED</td>\n",
       "      <td>2</td>\n",
       "      <td>2</td>\n",
       "      <td>2</td>\n",
       "      <td>2</td>\n",
       "      <td>2</td>\n",
       "      <td>2</td>\n",
       "      <td>2</td>\n",
       "      <td>4</td>\n",
       "      <td>2</td>\n",
       "      <td>2</td>\n",
       "      <td>[173075000, 406036005, 603258228]</td>\n",
       "      <td>[8474, 4084, 1668]</td>\n",
       "    </tr>\n",
       "    <tr>\n",
       "      <th>3</th>\n",
       "      <td>10007103</td>\n",
       "      <td>15</td>\n",
       "      <td>4050.397468</td>\n",
       "      <td>4</td>\n",
       "      <td>Male</td>\n",
       "      <td>White</td>\n",
       "      <td>UNDER 16 - INAPPLICABLE</td>\n",
       "      <td>1</td>\n",
       "      <td>1</td>\n",
       "      <td>1</td>\n",
       "      <td>1</td>\n",
       "      <td>1</td>\n",
       "      <td>1</td>\n",
       "      <td>1</td>\n",
       "      <td>2</td>\n",
       "      <td>1</td>\n",
       "      <td>2</td>\n",
       "      <td>[65401303]</td>\n",
       "      <td>[8892]</td>\n",
       "    </tr>\n",
       "    <tr>\n",
       "      <th>4</th>\n",
       "      <td>10007104</td>\n",
       "      <td>15</td>\n",
       "      <td>3064.059720</td>\n",
       "      <td>3</td>\n",
       "      <td>Female</td>\n",
       "      <td>White</td>\n",
       "      <td>UNDER 16 - INAPPLICABLE</td>\n",
       "      <td>1</td>\n",
       "      <td>1</td>\n",
       "      <td>1</td>\n",
       "      <td>1</td>\n",
       "      <td>1</td>\n",
       "      <td>1</td>\n",
       "      <td>1</td>\n",
       "      <td>2</td>\n",
       "      <td>1</td>\n",
       "      <td>2</td>\n",
       "      <td>[143988775, 68032032814]</td>\n",
       "      <td>[614, 6329]</td>\n",
       "    </tr>\n",
       "    <tr>\n",
       "      <th>5</th>\n",
       "      <td>10008101</td>\n",
       "      <td>15</td>\n",
       "      <td>3635.552466</td>\n",
       "      <td>51</td>\n",
       "      <td>Male</td>\n",
       "      <td>Multiple</td>\n",
       "      <td>MARRIED</td>\n",
       "      <td>2</td>\n",
       "      <td>2</td>\n",
       "      <td>2</td>\n",
       "      <td>2</td>\n",
       "      <td>2</td>\n",
       "      <td>2</td>\n",
       "      <td>2</td>\n",
       "      <td>2</td>\n",
       "      <td>2</td>\n",
       "      <td>2</td>\n",
       "      <td>NaN</td>\n",
       "      <td>NaN</td>\n",
       "    </tr>\n",
       "  </tbody>\n",
       "</table>\n",
       "</div>"
      ],
      "text/plain": [
       "         id  panel  pooledWeight  age     sex      race  \\\n",
       "1  10007101     15   3603.881236   28    Male     White   \n",
       "2  10007102     15   2544.550424   25  Female     White   \n",
       "3  10007103     15   4050.397468    4    Male     White   \n",
       "4  10007104     15   3064.059720    3  Female     White   \n",
       "5  10008101     15   3635.552466   51    Male  Multiple   \n",
       "\n",
       "                   married  highBPDiagnosed  diabetesDiagnosed  chdDiagnosed  \\\n",
       "1                  MARRIED                4                  2             2   \n",
       "2                  MARRIED                2                  2             2   \n",
       "3  UNDER 16 - INAPPLICABLE                1                  1             1   \n",
       "4  UNDER 16 - INAPPLICABLE                1                  1             1   \n",
       "5                  MARRIED                2                  2             2   \n",
       "\n",
       "   miDiagnosed  anginaDiagnosed  strokeDiagnosed  emphysemaDiagnosed  \\\n",
       "1            2                2                2                   2   \n",
       "2            2                2                2                   2   \n",
       "3            1                1                1                   1   \n",
       "4            1                1                1                   1   \n",
       "5            2                2                2                   2   \n",
       "\n",
       "   asthmaDiagnosed  otherHDDiagnosed  heartFailureDiagnosed  \\\n",
       "1                2                 2                      2   \n",
       "2                4                 2                      2   \n",
       "3                2                 1                      2   \n",
       "4                2                 1                      2   \n",
       "5                2                 2                      2   \n",
       "\n",
       "                                     rxNDC              rxName  \n",
       "1  [68382002210, 59762314001, 51079068463]    [919, 1041, 919]  \n",
       "2        [173075000, 406036005, 603258228]  [8474, 4084, 1668]  \n",
       "3                               [65401303]              [8892]  \n",
       "4                 [143988775, 68032032814]         [614, 6329]  \n",
       "5                                      NaN                 NaN  "
      ]
     },
     "execution_count": 27,
     "metadata": {},
     "output_type": "execute_result"
    }
   ],
   "source": [
    "df.head()"
   ]
  },
  {
   "cell_type": "markdown",
   "metadata": {},
   "source": [
    "### Average number of medications for each disease"
   ]
  },
  {
   "cell_type": "code",
   "execution_count": 28,
   "metadata": {
    "collapsed": false
   },
   "outputs": [],
   "source": [
    "df_hbp = df[df['highBPDiagnosed']==4]\n",
    "df_hbp.head()\n",
    "df['rxNDC'].fillna(value=0, inplace=True)\n",
    "df['rxName'].fillna(value=0, inplace=True)\n",
    "df['numberMedication'] = [len(x)  if isinstance(x, list) else 0 for x in df['rxName'].tolist()]"
   ]
  },
  {
   "cell_type": "code",
   "execution_count": 29,
   "metadata": {
    "collapsed": false
   },
   "outputs": [
    {
     "data": {
      "text/html": [
       "<div>\n",
       "<table border=\"1\" class=\"dataframe\">\n",
       "  <thead>\n",
       "    <tr style=\"text-align: right;\">\n",
       "      <th></th>\n",
       "      <th>id</th>\n",
       "      <th>panel</th>\n",
       "      <th>pooledWeight</th>\n",
       "      <th>age</th>\n",
       "      <th>highBPDiagnosed</th>\n",
       "      <th>diabetesDiagnosed</th>\n",
       "      <th>chdDiagnosed</th>\n",
       "      <th>miDiagnosed</th>\n",
       "      <th>anginaDiagnosed</th>\n",
       "      <th>strokeDiagnosed</th>\n",
       "      <th>emphysemaDiagnosed</th>\n",
       "      <th>asthmaDiagnosed</th>\n",
       "      <th>otherHDDiagnosed</th>\n",
       "      <th>heartFailureDiagnosed</th>\n",
       "      <th>numberMedication</th>\n",
       "    </tr>\n",
       "  </thead>\n",
       "  <tbody>\n",
       "    <tr>\n",
       "      <th>count</th>\n",
       "      <td>6.148900e+04</td>\n",
       "      <td>61489.000000</td>\n",
       "      <td>61489.000000</td>\n",
       "      <td>61489.000000</td>\n",
       "      <td>61489.000000</td>\n",
       "      <td>61489.000000</td>\n",
       "      <td>61489.000000</td>\n",
       "      <td>61489.000000</td>\n",
       "      <td>61489.000000</td>\n",
       "      <td>61489.000000</td>\n",
       "      <td>61489.00000</td>\n",
       "      <td>61489.000000</td>\n",
       "      <td>61489.000000</td>\n",
       "      <td>61489.000000</td>\n",
       "      <td>61489.000000</td>\n",
       "    </tr>\n",
       "    <tr>\n",
       "      <th>mean</th>\n",
       "      <td>5.534638e+07</td>\n",
       "      <td>13.534453</td>\n",
       "      <td>5063.701982</td>\n",
       "      <td>33.578396</td>\n",
       "      <td>2.145180</td>\n",
       "      <td>1.843842</td>\n",
       "      <td>1.777830</td>\n",
       "      <td>1.752248</td>\n",
       "      <td>1.739124</td>\n",
       "      <td>1.753305</td>\n",
       "      <td>1.73231</td>\n",
       "      <td>2.177918</td>\n",
       "      <td>1.828473</td>\n",
       "      <td>2.014084</td>\n",
       "      <td>6.137455</td>\n",
       "    </tr>\n",
       "    <tr>\n",
       "      <th>std</th>\n",
       "      <td>2.759592e+07</td>\n",
       "      <td>1.061329</td>\n",
       "      <td>3815.885387</td>\n",
       "      <td>22.887576</td>\n",
       "      <td>1.080327</td>\n",
       "      <td>0.746605</td>\n",
       "      <td>0.634544</td>\n",
       "      <td>0.581053</td>\n",
       "      <td>0.553745</td>\n",
       "      <td>0.583137</td>\n",
       "      <td>0.53531</td>\n",
       "      <td>0.614064</td>\n",
       "      <td>0.722464</td>\n",
       "      <td>0.167242</td>\n",
       "      <td>9.932157</td>\n",
       "    </tr>\n",
       "    <tr>\n",
       "      <th>min</th>\n",
       "      <td>1.000710e+07</td>\n",
       "      <td>12.000000</td>\n",
       "      <td>127.710358</td>\n",
       "      <td>-1.000000</td>\n",
       "      <td>0.000000</td>\n",
       "      <td>0.000000</td>\n",
       "      <td>0.000000</td>\n",
       "      <td>0.000000</td>\n",
       "      <td>0.000000</td>\n",
       "      <td>0.000000</td>\n",
       "      <td>0.00000</td>\n",
       "      <td>0.000000</td>\n",
       "      <td>0.000000</td>\n",
       "      <td>2.000000</td>\n",
       "      <td>0.000000</td>\n",
       "    </tr>\n",
       "    <tr>\n",
       "      <th>25%</th>\n",
       "      <td>4.045510e+07</td>\n",
       "      <td>13.000000</td>\n",
       "      <td>2217.419038</td>\n",
       "      <td>14.000000</td>\n",
       "      <td>1.000000</td>\n",
       "      <td>1.000000</td>\n",
       "      <td>1.000000</td>\n",
       "      <td>1.000000</td>\n",
       "      <td>1.000000</td>\n",
       "      <td>1.000000</td>\n",
       "      <td>1.00000</td>\n",
       "      <td>2.000000</td>\n",
       "      <td>1.000000</td>\n",
       "      <td>2.000000</td>\n",
       "      <td>0.000000</td>\n",
       "    </tr>\n",
       "    <tr>\n",
       "      <th>50%</th>\n",
       "      <td>4.965010e+07</td>\n",
       "      <td>14.000000</td>\n",
       "      <td>3989.180418</td>\n",
       "      <td>32.000000</td>\n",
       "      <td>2.000000</td>\n",
       "      <td>2.000000</td>\n",
       "      <td>2.000000</td>\n",
       "      <td>2.000000</td>\n",
       "      <td>2.000000</td>\n",
       "      <td>2.000000</td>\n",
       "      <td>2.00000</td>\n",
       "      <td>2.000000</td>\n",
       "      <td>2.000000</td>\n",
       "      <td>2.000000</td>\n",
       "      <td>2.000000</td>\n",
       "    </tr>\n",
       "    <tr>\n",
       "      <th>75%</th>\n",
       "      <td>8.161711e+07</td>\n",
       "      <td>14.000000</td>\n",
       "      <td>6905.677619</td>\n",
       "      <td>51.000000</td>\n",
       "      <td>2.000000</td>\n",
       "      <td>2.000000</td>\n",
       "      <td>2.000000</td>\n",
       "      <td>2.000000</td>\n",
       "      <td>2.000000</td>\n",
       "      <td>2.000000</td>\n",
       "      <td>2.00000</td>\n",
       "      <td>2.000000</td>\n",
       "      <td>2.000000</td>\n",
       "      <td>2.000000</td>\n",
       "      <td>8.000000</td>\n",
       "    </tr>\n",
       "    <tr>\n",
       "      <th>max</th>\n",
       "      <td>8.968810e+07</td>\n",
       "      <td>15.000000</td>\n",
       "      <td>38828.153564</td>\n",
       "      <td>85.000000</td>\n",
       "      <td>5.000000</td>\n",
       "      <td>5.000000</td>\n",
       "      <td>5.000000</td>\n",
       "      <td>5.000000</td>\n",
       "      <td>5.000000</td>\n",
       "      <td>5.000000</td>\n",
       "      <td>5.00000</td>\n",
       "      <td>5.000000</td>\n",
       "      <td>5.000000</td>\n",
       "      <td>4.000000</td>\n",
       "      <td>136.000000</td>\n",
       "    </tr>\n",
       "  </tbody>\n",
       "</table>\n",
       "</div>"
      ],
      "text/plain": [
       "                 id         panel  pooledWeight           age  \\\n",
       "count  6.148900e+04  61489.000000  61489.000000  61489.000000   \n",
       "mean   5.534638e+07     13.534453   5063.701982     33.578396   \n",
       "std    2.759592e+07      1.061329   3815.885387     22.887576   \n",
       "min    1.000710e+07     12.000000    127.710358     -1.000000   \n",
       "25%    4.045510e+07     13.000000   2217.419038     14.000000   \n",
       "50%    4.965010e+07     14.000000   3989.180418     32.000000   \n",
       "75%    8.161711e+07     14.000000   6905.677619     51.000000   \n",
       "max    8.968810e+07     15.000000  38828.153564     85.000000   \n",
       "\n",
       "       highBPDiagnosed  diabetesDiagnosed  chdDiagnosed   miDiagnosed  \\\n",
       "count     61489.000000       61489.000000  61489.000000  61489.000000   \n",
       "mean          2.145180           1.843842      1.777830      1.752248   \n",
       "std           1.080327           0.746605      0.634544      0.581053   \n",
       "min           0.000000           0.000000      0.000000      0.000000   \n",
       "25%           1.000000           1.000000      1.000000      1.000000   \n",
       "50%           2.000000           2.000000      2.000000      2.000000   \n",
       "75%           2.000000           2.000000      2.000000      2.000000   \n",
       "max           5.000000           5.000000      5.000000      5.000000   \n",
       "\n",
       "       anginaDiagnosed  strokeDiagnosed  emphysemaDiagnosed  asthmaDiagnosed  \\\n",
       "count     61489.000000     61489.000000         61489.00000     61489.000000   \n",
       "mean          1.739124         1.753305             1.73231         2.177918   \n",
       "std           0.553745         0.583137             0.53531         0.614064   \n",
       "min           0.000000         0.000000             0.00000         0.000000   \n",
       "25%           1.000000         1.000000             1.00000         2.000000   \n",
       "50%           2.000000         2.000000             2.00000         2.000000   \n",
       "75%           2.000000         2.000000             2.00000         2.000000   \n",
       "max           5.000000         5.000000             5.00000         5.000000   \n",
       "\n",
       "       otherHDDiagnosed  heartFailureDiagnosed  numberMedication  \n",
       "count      61489.000000           61489.000000      61489.000000  \n",
       "mean           1.828473               2.014084          6.137455  \n",
       "std            0.722464               0.167242          9.932157  \n",
       "min            0.000000               2.000000          0.000000  \n",
       "25%            1.000000               2.000000          0.000000  \n",
       "50%            2.000000               2.000000          2.000000  \n",
       "75%            2.000000               2.000000          8.000000  \n",
       "max            5.000000               4.000000        136.000000  "
      ]
     },
     "execution_count": 29,
     "metadata": {},
     "output_type": "execute_result"
    }
   ],
   "source": [
    "df.describe()"
   ]
  },
  {
   "cell_type": "markdown",
   "metadata": {},
   "source": [
    "So on average, patients take 6 different medications. The median is 2 medications per patient."
   ]
  },
  {
   "cell_type": "code",
   "execution_count": 30,
   "metadata": {
    "collapsed": false
   },
   "outputs": [
    {
     "data": {
      "text/html": [
       "<div>\n",
       "<table border=\"1\" class=\"dataframe\">\n",
       "  <thead>\n",
       "    <tr style=\"text-align: right;\">\n",
       "      <th></th>\n",
       "      <th>anginaDiagnosed</th>\n",
       "      <th>asthmaDiagnosed</th>\n",
       "      <th>chdDiagnosed</th>\n",
       "      <th>diabetesDiagnosed</th>\n",
       "      <th>emphysemaDiagnosed</th>\n",
       "      <th>heartFailureDiagnosed</th>\n",
       "      <th>highBPDiagnosed</th>\n",
       "      <th>miDiagnosed</th>\n",
       "      <th>otherHDDiagnosed</th>\n",
       "      <th>strokeDiagnosed</th>\n",
       "    </tr>\n",
       "  </thead>\n",
       "  <tbody>\n",
       "    <tr>\n",
       "      <th>0</th>\n",
       "      <td>63653117101</td>\n",
       "      <td>59310057920</td>\n",
       "      <td>63653117101</td>\n",
       "      <td>88222033</td>\n",
       "      <td>597007541</td>\n",
       "      <td>378021610</td>\n",
       "      <td>172208380</td>\n",
       "      <td>63653117101</td>\n",
       "      <td>63653117106</td>\n",
       "      <td>63653117101</td>\n",
       "    </tr>\n",
       "    <tr>\n",
       "      <th>1</th>\n",
       "      <td>63653117106</td>\n",
       "      <td>17270072101</td>\n",
       "      <td>63653117106</td>\n",
       "      <td>2831501</td>\n",
       "      <td>173069600</td>\n",
       "      <td>63653117101</td>\n",
       "      <td>71015623</td>\n",
       "      <td>63653117106</td>\n",
       "      <td>63653117101</td>\n",
       "      <td>63653117106</td>\n",
       "    </tr>\n",
       "    <tr>\n",
       "      <th>2</th>\n",
       "      <td>88222033</td>\n",
       "      <td>173069600</td>\n",
       "      <td>71015623</td>\n",
       "      <td>169183411</td>\n",
       "      <td>597001314</td>\n",
       "      <td>88222033</td>\n",
       "      <td>406035705</td>\n",
       "      <td>71015623</td>\n",
       "      <td>406035705</td>\n",
       "      <td>2831501</td>\n",
       "    </tr>\n",
       "    <tr>\n",
       "      <th>3</th>\n",
       "      <td>71015623</td>\n",
       "      <td>6011731</td>\n",
       "      <td>378021610</td>\n",
       "      <td>56151088880</td>\n",
       "      <td>59310057920</td>\n",
       "      <td>56151088880</td>\n",
       "      <td>71015523</td>\n",
       "      <td>88222033</td>\n",
       "      <td>378021610</td>\n",
       "      <td>406035705</td>\n",
       "    </tr>\n",
       "    <tr>\n",
       "      <th>4</th>\n",
       "      <td>378021610</td>\n",
       "      <td>173068220</td>\n",
       "      <td>88222033</td>\n",
       "      <td>781505001</td>\n",
       "      <td>406035705</td>\n",
       "      <td>2831501</td>\n",
       "      <td>63653117101</td>\n",
       "      <td>378001801</td>\n",
       "      <td>71015623</td>\n",
       "      <td>88222033</td>\n",
       "    </tr>\n",
       "    <tr>\n",
       "      <th>5</th>\n",
       "      <td>378001801</td>\n",
       "      <td>173069500</td>\n",
       "      <td>378001801</td>\n",
       "      <td>71015623</td>\n",
       "      <td>17270072101</td>\n",
       "      <td>378020810</td>\n",
       "      <td>186504031</td>\n",
       "      <td>2831501</td>\n",
       "      <td>71015523</td>\n",
       "      <td>172208380</td>\n",
       "    </tr>\n",
       "    <tr>\n",
       "      <th>6</th>\n",
       "      <td>2831501</td>\n",
       "      <td>59930156001</td>\n",
       "      <td>2831501</td>\n",
       "      <td>53885044801</td>\n",
       "      <td>63653117101</td>\n",
       "      <td>781196610</td>\n",
       "      <td>603385632</td>\n",
       "      <td>378021610</td>\n",
       "      <td>186504031</td>\n",
       "      <td>169183411</td>\n",
       "    </tr>\n",
       "    <tr>\n",
       "      <th>7</th>\n",
       "      <td>71015523</td>\n",
       "      <td>406035705</td>\n",
       "      <td>71015523</td>\n",
       "      <td>781505201</td>\n",
       "      <td>63653117106</td>\n",
       "      <td>63653117106</td>\n",
       "      <td>88222033</td>\n",
       "      <td>378003210</td>\n",
       "      <td>378001801</td>\n",
       "      <td>378021610</td>\n",
       "    </tr>\n",
       "    <tr>\n",
       "      <th>8</th>\n",
       "      <td>378003210</td>\n",
       "      <td>6011754</td>\n",
       "      <td>71015723</td>\n",
       "      <td>63653117106</td>\n",
       "      <td>173069700</td>\n",
       "      <td>378001801</td>\n",
       "      <td>63653117106</td>\n",
       "      <td>169183411</td>\n",
       "      <td>88222033</td>\n",
       "      <td>597000160</td>\n",
       "    </tr>\n",
       "    <tr>\n",
       "      <th>9</th>\n",
       "      <td>406035705</td>\n",
       "      <td>85113201</td>\n",
       "      <td>378003210</td>\n",
       "      <td>71015523</td>\n",
       "      <td>186037020</td>\n",
       "      <td>173069600</td>\n",
       "      <td>2831501</td>\n",
       "      <td>56151088880</td>\n",
       "      <td>172208380</td>\n",
       "      <td>71015623</td>\n",
       "    </tr>\n",
       "  </tbody>\n",
       "</table>\n",
       "</div>"
      ],
      "text/plain": [
       "   anginaDiagnosed  asthmaDiagnosed  chdDiagnosed  diabetesDiagnosed  \\\n",
       "0      63653117101      59310057920   63653117101           88222033   \n",
       "1      63653117106      17270072101   63653117106            2831501   \n",
       "2         88222033        173069600      71015623          169183411   \n",
       "3         71015623          6011731     378021610        56151088880   \n",
       "4        378021610        173068220      88222033          781505001   \n",
       "5        378001801        173069500     378001801           71015623   \n",
       "6          2831501      59930156001       2831501        53885044801   \n",
       "7         71015523        406035705      71015523          781505201   \n",
       "8        378003210          6011754      71015723        63653117106   \n",
       "9        406035705         85113201     378003210           71015523   \n",
       "\n",
       "   emphysemaDiagnosed  heartFailureDiagnosed  highBPDiagnosed  miDiagnosed  \\\n",
       "0           597007541              378021610        172208380  63653117101   \n",
       "1           173069600            63653117101         71015623  63653117106   \n",
       "2           597001314               88222033        406035705     71015623   \n",
       "3         59310057920            56151088880         71015523     88222033   \n",
       "4           406035705                2831501      63653117101    378001801   \n",
       "5         17270072101              378020810        186504031      2831501   \n",
       "6         63653117101              781196610        603385632    378021610   \n",
       "7         63653117106            63653117106         88222033    378003210   \n",
       "8           173069700              378001801      63653117106    169183411   \n",
       "9           186037020              173069600          2831501  56151088880   \n",
       "\n",
       "   otherHDDiagnosed  strokeDiagnosed  \n",
       "0       63653117106      63653117101  \n",
       "1       63653117101      63653117106  \n",
       "2         406035705          2831501  \n",
       "3         378021610        406035705  \n",
       "4          71015623         88222033  \n",
       "5          71015523        172208380  \n",
       "6         186504031        169183411  \n",
       "7         378001801        378021610  \n",
       "8          88222033        597000160  \n",
       "9         172208380         71015623  "
      ]
     },
     "execution_count": 30,
     "metadata": {},
     "output_type": "execute_result"
    }
   ],
   "source": [
    "rank_df"
   ]
  },
  {
   "cell_type": "code",
   "execution_count": null,
   "metadata": {
    "collapsed": true
   },
   "outputs": [],
   "source": []
  }
 ],
 "metadata": {
  "kernelspec": {
   "display_name": "Python 2",
   "language": "python",
   "name": "python2"
  },
  "language_info": {
   "codemirror_mode": {
    "name": "ipython",
    "version": 2
   },
   "file_extension": ".py",
   "mimetype": "text/x-python",
   "name": "python",
   "nbconvert_exporter": "python",
   "pygments_lexer": "ipython2",
   "version": "2.7.11"
  }
 },
 "nbformat": 4,
 "nbformat_minor": 0
}
